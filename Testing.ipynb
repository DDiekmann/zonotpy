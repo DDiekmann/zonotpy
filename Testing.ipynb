{
  "nbformat": 4,
  "nbformat_minor": 0,
  "metadata": {
    "colab": {
      "name": "Untitled1.ipynb",
      "provenance": [],
      "collapsed_sections": [],
      "authorship_tag": "ABX9TyMpIUrSt0QShTJ6zdvAFB/C",
      "include_colab_link": true
    },
    "kernelspec": {
      "name": "python3",
      "display_name": "Python 3"
    },
    "language_info": {
      "name": "python"
    }
  },
  "cells": [
    {
      "cell_type": "markdown",
      "metadata": {
        "id": "view-in-github",
        "colab_type": "text"
      },
      "source": [
        "<a href=\"https://colab.research.google.com/github/DDiekmann/zonotpy/blob/main/Testing.ipynb\" target=\"_parent\"><img src=\"https://colab.research.google.com/assets/colab-badge.svg\" alt=\"Open In Colab\"/></a>"
      ]
    },
    {
      "cell_type": "code",
      "execution_count": 1,
      "metadata": {
        "id": "z2jyl2nqDPwn"
      },
      "outputs": [],
      "source": [
        "%%capture\n",
        "\n",
        "!wget --no-cache --backups=1 {'https://raw.githubusercontent.com/DDiekmann/zonotpy/main/src/interval_abstraction.py'}\n",
        "\n",
        "!wget --no-cache --backups=1 {'https://raw.githubusercontent.com/DDiekmann/zonotpy/main/src/nn_functions.py'}\n",
        "\n",
        "!wget --no-cache --backups=1 {'https://raw.githubusercontent.com/DDiekmann/zonotpy/main/src/zonotope.py'}"
      ]
    },
    {
      "cell_type": "code",
      "source": [
        "import interval_abstraction as interval\n",
        "import nn_functions as zf\n",
        "import numpy as np\n",
        "\n",
        "from zonotope import zono\n",
        "from matplotlib import pyplot as plt\n",
        "\n",
        "from IPython import display\n",
        "\n",
        "network = {'v1': [0.2, 0.7], 'v2': [0.9, 0.45], 'o1': [0.4, 0.1], 'o2': [0.1, 0.2]}"
      ],
      "metadata": {
        "id": "97HUAZWhEJk8"
      },
      "execution_count": 2,
      "outputs": []
    },
    {
      "cell_type": "markdown",
      "source": [
        "![Google Drive Image](https://drive.google.com/uc?export=view&id=1sJOUvgcPB2hPJ2U5NbwAlgB4gF9WWp2T)"
      ],
      "metadata": {
        "id": "7XGThXHP1dfY"
      }
    },
    {
      "cell_type": "code",
      "source": [
        "input = zono(values = np.array([[1, 1, 0], [2, 0, 1]]))\n",
        "i1, i2 = input.split()\n",
        "print(f\"Input I1 : {i1}\")\n",
        "print(f\"Input I2 : {i2}\")\n",
        "\n",
        "print(f\"Input I1 as Interval : {i1.to_intervals()}\")\n",
        "print(f\"Input I2 as Interval : {i2.to_intervals()}\")\n",
        "\n",
        "v1 = zf.affine(network['v2'], i1, i2)\n",
        "\n",
        "print(f\"V1: {v1}\")\n",
        "\n",
        "print(f\"V1 as Interval {v1.to_intervals()}\")\n",
        "\n",
        "v1_relu = zf.relu(v1)"
      ],
      "metadata": {
        "colab": {
          "base_uri": "https://localhost:8080/"
        },
        "id": "CZKqfQ5z2xHj",
        "outputId": "26776ec7-37e9-4407-d48b-ca4919ef2c52"
      },
      "execution_count": 3,
      "outputs": [
        {
          "output_type": "stream",
          "name": "stdout",
          "text": [
            "Input I1 : [[1 1 0]]\n",
            "Input I2 : [[2 0 1]]\n",
            "Input I1 as Interval : [(0, 2)]\n",
            "Input I2 as Interval : [(1, 3)]\n",
            "V1: [[1.8  0.9  0.45]]\n",
            "V1 as Interval [(0.45, 3.1500000000000004)]\n",
            "ReLU V1: [[1.8  0.9  0.45]]\n"
          ]
        }
      ]
    },
    {
      "cell_type": "code",
      "source": [
        "def create_plot():\n",
        "  fig, ax = plt.subplots(1, 3)\n",
        "\n",
        "  fig.set_size_inches(24, 7)\n",
        "\n",
        "  ax[0].set_title(\"Input\")\n",
        "  ax[0].set_xlim(-2, 3.5)\n",
        "  ax[0].set_ylim(-2, 3.1)\n",
        "  ax[1].set_title(\"Hidden\")\n",
        "  ax[1].set_xlim(-2, 3.5)\n",
        "  ax[1].set_ylim(-2, 3.1)\n",
        "  ax[2].set_title(\"Output\")\n",
        "  ax[2].set_xlim(-2, 3.5)\n",
        "  ax[2].set_ylim(-2, 3.1)\n",
        "  return fig, ax\n",
        "\n",
        "def relu(x):\n",
        "  if x > 0: return x\n",
        "  return 0\n",
        "\n",
        "def example_points(fig, ax, input : zono, hidden : zono, output : zono, number_of_points = 1):\n",
        "  for i in range(number_of_points):\n",
        "    input_point = input.get_random_point()\n",
        "    ax[0].plot(input_point[0], input_point[1], 'ro', marker=\"x\", markersize=2)\n",
        "    v1 = relu(network['v1'][0] * input_point[0] + network['v1'][1] * input_point[1])\n",
        "    v2 = relu(network['v2'][0] * input_point[0] + network['v2'][1] * input_point[1])\n",
        "    ax[1].plot(v1, v2, 'ro', marker=\"x\", markersize=2)\n",
        "    o1 = relu(network['o1'][0] * v1 + network['o1'][1] * v2)\n",
        "    o2 = relu(network['o2'][0] * v1 + network['o2'][1] * v2)\n",
        "    ax[2].plot(o1, o2, 'ro', marker=\"x\", markersize=2)"
      ],
      "metadata": {
        "id": "4dW_lFPpFX4p"
      },
      "execution_count": 19,
      "outputs": []
    },
    {
      "cell_type": "code",
      "source": [
        "fig, ax = create_plot()\n",
        "\n",
        "input = zono(values = np.array([[1, 1, 0], [2, 0, 1]]))\n",
        "i1, i2 = input.split()\n",
        "\n",
        "i1_i = i1.to_intervals()[0]\n",
        "i2_i = i2.to_intervals()[0]\n",
        "interval.visualize(i1_i, i2_i, fig=fig, ax=ax[0])\n",
        "v1_i = interval.relu(interval.affine(network['v1'], i1_i, i2_i))\n",
        "v2_i = interval.relu(interval.affine(network['v2'], i1_i, i2_i))\n",
        "interval.visualize(v1_i, v2_i, fig=fig, ax=ax[1])\n",
        "o1_i = interval.relu(interval.affine(network['o1'], v1_i, v2_i))\n",
        "o2_i = interval.relu(interval.affine(network['o2'], v1_i, v2_i))\n",
        "interval.visualize(o1_i, o2_i, fig=fig, ax=ax[2])\n",
        "\n",
        "input.visualize(shape=True, fig=fig, ax=ax[0])\n",
        "v1 = zf.relu(zf.affine(network['v1'], i1, i2))\n",
        "v2 = zf.relu(zf.affine(network['v2'], i1, i2))\n",
        "hidden = v1.combine(v2)\n",
        "hidden.visualize(shape=True, fig=fig, ax=ax[1])\n",
        "o1 = zf.relu(zf.affine(network['o1'], v1, v2))\n",
        "o2 = zf.relu(zf.affine(network['o2'], v1, v2))\n",
        "output = o1.combine(o2)\n",
        "output.visualize(shape=True, fig=fig, ax=ax[2])\n",
        "\n",
        "example_points(fig, ax, input=input, hidden=hidden, output=output, number_of_points=50)\n",
        "\n",
        "plt.show()"
      ],
      "metadata": {
        "colab": {
          "base_uri": "https://localhost:8080/",
          "height": 444
        },
        "id": "MPZRVx0cFixX",
        "outputId": "5b2ed8b3-4fa7-4b05-c357-4f39b3d655f8"
      },
      "execution_count": 21,
      "outputs": [
        {
          "output_type": "display_data",
          "data": {
            "text/plain": [
              "<Figure size 1728x504 with 3 Axes>"
            ],
            "image/png": "[encoded data removed]"
          },
          "metadata": {
            "needs_background": "light"
          }
        }
      ]
    },
    {
      "cell_type": "code",
      "source": [
        "fig, ax = create_plot()\n",
        "\n",
        "input = zono(values = np.array([[0, 1, 0], [2, 0, 1]]))\n",
        "i1, i2 = input.split()\n",
        "\n",
        "i1_i = i1.to_intervals()[0]\n",
        "i2_i = i2.to_intervals()[0]\n",
        "interval.visualize(i1_i, i2_i, fig=fig, ax=ax[0])\n",
        "v1_i = interval.relu(interval.affine(network['v1'], i1_i, i2_i))\n",
        "v2_i = interval.relu(interval.affine(network['v2'], i1_i, i2_i))\n",
        "interval.visualize(v1_i, v2_i, fig=fig, ax=ax[1])\n",
        "o1_i = interval.relu(interval.affine(network['o1'], v1_i, v2_i))\n",
        "o2_i = interval.relu(interval.affine(network['o2'], v1_i, v2_i))\n",
        "interval.visualize(o1_i, o2_i, fig=fig, ax=ax[2])\n",
        "\n",
        "input.visualize(shape=True, fig=fig, ax=ax[0])\n",
        "v1 = zf.relu(zf.affine(network['v1'], i1, i2))\n",
        "v2 = zf.relu(zf.affine(network['v2'], i1, i2))\n",
        "hidden = v1.combine(v2)\n",
        "hidden.visualize(shape=True, fig=fig, ax=ax[1])\n",
        "o1 = zf.relu(zf.affine(network['o1'], v1, v2))\n",
        "o2 = zf.relu(zf.affine(network['o2'], v1, v2))\n",
        "output = o1.combine(o2)\n",
        "output.visualize(shape=True, fig=fig, ax=ax[2])\n",
        "\n",
        "example_points(fig, ax, input=input, hidden=hidden, output=output, number_of_points=50)\n",
        "\n",
        "plt.show()"
      ],
      "metadata": {
        "colab": {
          "base_uri": "https://localhost:8080/",
          "height": 444
        },
        "id": "RBneEXC9D6eF",
        "outputId": "c6b9329c-93a0-4055-e297-3dc85b1b57b9"
      },
      "execution_count": 20,
      "outputs": [
        {
          "output_type": "display_data",
          "data": {
            "text/plain": [
              "<Figure size 1728x504 with 3 Axes>"
            ],
            "image/png": "[encoded data removed]"
          },
          "metadata": {
            "needs_background": "light"
          }
        }
      ]
    }
  ]
}